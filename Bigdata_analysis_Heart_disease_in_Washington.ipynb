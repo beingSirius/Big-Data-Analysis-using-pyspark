{
 "cells": [
  {
   "cell_type": "code",
   "execution_count": 1,
   "metadata": {},
   "outputs": [
    {
     "data": {
      "application/vnd.jupyter.widget-view+json": {
       "model_id": "1aeab4164686480a86e8037d722a8572",
       "version_major": 2,
       "version_minor": 0
      },
      "text/plain": [
       "VBox()"
      ]
     },
     "metadata": {},
     "output_type": "display_data"
    },
    {
     "name": "stdout",
     "output_type": "stream",
     "text": [
      "Starting Spark application\n"
     ]
    },
    {
     "data": {
      "text/html": [
       "<table>\n",
       "<tr><th>ID</th><th>YARN Application ID</th><th>Kind</th><th>State</th><th>Spark UI</th><th>Driver log</th><th>Current session?</th></tr><tr><td>0</td><td>application_1577403837317_0001</td><td>pyspark</td><td>idle</td><td><a target=\"_blank\" href=\"http://ip-172-31-15-136.us-east-2.compute.internal:20888/proxy/application_1577403837317_0001/\">Link</a></td><td><a target=\"_blank\" href=\"http://ip-172-31-4-209.us-east-2.compute.internal:8042/node/containerlogs/container_1577403837317_0001_01_000001/livy\">Link</a></td><td>✔</td></tr></table>"
      ],
      "text/plain": [
       "<IPython.core.display.HTML object>"
      ]
     },
     "metadata": {},
     "output_type": "display_data"
    },
    {
     "data": {
      "application/vnd.jupyter.widget-view+json": {
       "model_id": "",
       "version_major": 2,
       "version_minor": 0
      },
      "text/plain": [
       "FloatProgress(value=0.0, bar_style='info', description='Progress:', layout=Layout(height='25px', width='50%'),…"
      ]
     },
     "metadata": {},
     "output_type": "display_data"
    },
    {
     "name": "stdout",
     "output_type": "stream",
     "text": [
      "SparkSession available as 'spark'.\n"
     ]
    },
    {
     "data": {
      "application/vnd.jupyter.widget-view+json": {
       "model_id": "",
       "version_major": 2,
       "version_minor": 0
      },
      "text/plain": [
       "FloatProgress(value=0.0, bar_style='info', description='Progress:', layout=Layout(height='25px', width='50%'),…"
      ]
     },
     "metadata": {},
     "output_type": "display_data"
    },
    {
     "name": "stdout",
     "output_type": "stream",
     "text": [
      "Welcome to my EMR Notebook!"
     ]
    }
   ],
   "source": [
    "print(\"Welcome to my EMR Notebook!\")"
   ]
  },
  {
   "cell_type": "code",
   "execution_count": 2,
   "metadata": {},
   "outputs": [
    {
     "data": {
      "text/html": [
       "Current session configs: <tt>{'conf': {'spark.pyspark.python': 'python3', 'spark.pyspark.virtualenv.enabled': 'true', 'spark.pyspark.virtualenv.type': 'native', 'spark.pyspark.virtualenv.bin.path': '/usr/bin/virtualenv'}, 'kind': 'pyspark'}</tt><br>"
      ],
      "text/plain": [
       "<IPython.core.display.HTML object>"
      ]
     },
     "metadata": {},
     "output_type": "display_data"
    },
    {
     "data": {
      "text/html": [
       "<table>\n",
       "<tr><th>ID</th><th>YARN Application ID</th><th>Kind</th><th>State</th><th>Spark UI</th><th>Driver log</th><th>Current session?</th></tr><tr><td>0</td><td>application_1577403837317_0001</td><td>pyspark</td><td>idle</td><td><a target=\"_blank\" href=\"http://ip-172-31-15-136.us-east-2.compute.internal:20888/proxy/application_1577403837317_0001/\">Link</a></td><td><a target=\"_blank\" href=\"http://ip-172-31-4-209.us-east-2.compute.internal:8042/node/containerlogs/container_1577403837317_0001_01_000001/livy\">Link</a></td><td>✔</td></tr></table>"
      ],
      "text/plain": [
       "<IPython.core.display.HTML object>"
      ]
     },
     "metadata": {},
     "output_type": "display_data"
    }
   ],
   "source": [
    "%%info"
   ]
  },
  {
   "cell_type": "code",
   "execution_count": 3,
   "metadata": {},
   "outputs": [
    {
     "data": {
      "application/vnd.jupyter.widget-view+json": {
       "model_id": "28e1f4507ca64910a7e12d49d54ff4ba",
       "version_major": 2,
       "version_minor": 0
      },
      "text/plain": [
       "VBox()"
      ]
     },
     "metadata": {},
     "output_type": "display_data"
    },
    {
     "data": {
      "application/vnd.jupyter.widget-view+json": {
       "model_id": "",
       "version_major": 2,
       "version_minor": 0
      },
      "text/plain": [
       "FloatProgress(value=0.0, bar_style='info', description='Progress:', layout=Layout(height='25px', width='50%'),…"
      ]
     },
     "metadata": {},
     "output_type": "display_data"
    },
    {
     "name": "stdout",
     "output_type": "stream",
     "text": [
      "Package                    Version\n",
      "-------------------------- -------\n",
      "beautifulsoup4             4.8.1  \n",
      "boto                       2.49.0 \n",
      "jmespath                   0.9.4  \n",
      "lxml                       4.4.1  \n",
      "mysqlclient                1.4.4  \n",
      "nltk                       3.4.5  \n",
      "nose                       1.3.4  \n",
      "numpy                      1.14.5 \n",
      "pip                        19.3.1 \n",
      "py-dateutil                2.2    \n",
      "python36-sagemaker-pyspark 1.2.6  \n",
      "pytz                       2019.3 \n",
      "PyYAML                     3.11   \n",
      "setuptools                 42.0.2 \n",
      "six                        1.12.0 \n",
      "soupsieve                  1.9.4  \n",
      "wheel                      0.33.6 \n",
      "windmill                   1.6"
     ]
    }
   ],
   "source": [
    "sc.list_packages()"
   ]
  },
  {
   "cell_type": "code",
   "execution_count": 10,
   "metadata": {},
   "outputs": [
    {
     "data": {
      "application/vnd.jupyter.widget-view+json": {
       "model_id": "7f0d567bad43436e9d6dbae349e4868e",
       "version_major": 2,
       "version_minor": 0
      },
      "text/plain": [
       "VBox()"
      ]
     },
     "metadata": {},
     "output_type": "display_data"
    },
    {
     "data": {
      "application/vnd.jupyter.widget-view+json": {
       "model_id": "",
       "version_major": 2,
       "version_minor": 0
      },
      "text/plain": [
       "FloatProgress(value=0.0, bar_style='info', description='Progress:', layout=Layout(height='25px', width='50%'),…"
      ]
     },
     "metadata": {},
     "output_type": "display_data"
    }
   ],
   "source": [
    "one = spark.read.csv(\"s3://aws-logs-708709477996-us-east-2/elasticmapreduce/500_Cities__Local_Data_for_Better_Health__2019_release.csv\",header='true')"
   ]
  },
  {
   "cell_type": "code",
   "execution_count": 11,
   "metadata": {},
   "outputs": [
    {
     "data": {
      "application/vnd.jupyter.widget-view+json": {
       "model_id": "3c3552585e344648b58c63952a553295",
       "version_major": 2,
       "version_minor": 0
      },
      "text/plain": [
       "VBox()"
      ]
     },
     "metadata": {},
     "output_type": "display_data"
    },
    {
     "data": {
      "application/vnd.jupyter.widget-view+json": {
       "model_id": "",
       "version_major": 2,
       "version_minor": 0
      },
      "text/plain": [
       "FloatProgress(value=0.0, bar_style='info', description='Progress:', layout=Layout(height='25px', width='50%'),…"
      ]
     },
     "metadata": {},
     "output_type": "display_data"
    },
    {
     "name": "stdout",
     "output_type": "stream",
     "text": [
      "+----+---------+---------+--------+---------------+----------+----------+-------------------+--------------------+---------------+---------------+----------------+----------+--------------------+---------------------+--------------------------+-------------------+---------------+--------------------+----------+---------+--------+-----------+-------------------+\n",
      "|Year|StateAbbr|StateDesc|CityName|GeographicLevel|DataSource|  Category|           UniqueID|             Measure|Data_Value_Unit|DataValueTypeID| Data_Value_Type|Data_Value|Low_Confidence_Limit|High_Confidence_Limit|Data_Value_Footnote_Symbol|Data_Value_Footnote|PopulationCount|         GeoLocation|CategoryID|MeasureId|CityFIPS|  TractFIPS|Short_Question_Text|\n",
      "+----+---------+---------+--------+---------------+----------+----------+-------------------+--------------------+---------------+---------------+----------------+----------+--------------------+---------------------+--------------------------+-------------------+---------------+--------------------+----------+---------+--------+-----------+-------------------+\n",
      "|2017|       GA|  Georgia|Savannah|   Census Tract|     BRFSS|Prevention|1369000-13051004002|Visits to doctor ...|              %|         CrdPrv|Crude prevalence|      74.8|                74.0|                 75.5|                      null|               null|           3697|(32.0005963715, -...|   PREVENT|  CHECKUP| 1369000|13051004002|     Annual Checkup|\n",
      "+----+---------+---------+--------+---------------+----------+----------+-------------------+--------------------+---------------+---------------+----------------+----------+--------------------+---------------------+--------------------------+-------------------+---------------+--------------------+----------+---------+--------+-----------+-------------------+\n",
      "only showing top 1 row"
     ]
    }
   ],
   "source": [
    "one.show(1)"
   ]
  },
  {
   "cell_type": "code",
   "execution_count": 6,
   "metadata": {},
   "outputs": [
    {
     "data": {
      "application/vnd.jupyter.widget-view+json": {
       "model_id": "3c3d853163bd49d09baed89660527671",
       "version_major": 2,
       "version_minor": 0
      },
      "text/plain": [
       "VBox()"
      ]
     },
     "metadata": {},
     "output_type": "display_data"
    },
    {
     "data": {
      "application/vnd.jupyter.widget-view+json": {
       "model_id": "",
       "version_major": 2,
       "version_minor": 0
      },
      "text/plain": [
       "FloatProgress(value=0.0, bar_style='info', description='Progress:', layout=Layout(height='25px', width='50%'),…"
      ]
     },
     "metadata": {},
     "output_type": "display_data"
    },
    {
     "name": "stdout",
     "output_type": "stream",
     "text": [
      "Collecting pandas==0.25.1\n",
      "  Downloading https://files.pythonhosted.org/packages/73/9b/52e228545d14f14bb2a1622e225f38463c8726645165e1cb7dde95bfe6d4/pandas-0.25.1-cp36-cp36m-manylinux1_x86_64.whl (10.5MB)\n",
      "Requirement already satisfied: numpy>=1.13.3 in /usr/local/lib64/python3.6/site-packages (from pandas==0.25.1) (1.14.5)\n",
      "Collecting python-dateutil>=2.6.1\n",
      "  Downloading https://files.pythonhosted.org/packages/d4/70/d60450c3dd48ef87586924207ae8907090de0b306af2bce5d134d78615cb/python_dateutil-2.8.1-py2.py3-none-any.whl (227kB)\n",
      "Requirement already satisfied: pytz>=2017.2 in /usr/local/lib/python3.6/site-packages (from pandas==0.25.1) (2019.3)\n",
      "Requirement already satisfied: six>=1.5 in /usr/local/lib/python3.6/site-packages (from python-dateutil>=2.6.1->pandas==0.25.1) (1.12.0)\n",
      "Installing collected packages: python-dateutil, pandas\n",
      "Successfully installed pandas-0.25.1 python-dateutil-2.8.1"
     ]
    }
   ],
   "source": [
    "#sc.install_pypi_package(\"pandas==0.25.1\") "
   ]
  },
  {
   "cell_type": "code",
   "execution_count": 9,
   "metadata": {},
   "outputs": [
    {
     "data": {
      "application/vnd.jupyter.widget-view+json": {
       "model_id": "dd09ac7683d040468d1cdc4768045082",
       "version_major": 2,
       "version_minor": 0
      },
      "text/plain": [
       "VBox()"
      ]
     },
     "metadata": {},
     "output_type": "display_data"
    },
    {
     "data": {
      "application/vnd.jupyter.widget-view+json": {
       "model_id": "",
       "version_major": 2,
       "version_minor": 0
      },
      "text/plain": [
       "FloatProgress(value=0.0, bar_style='info', description='Progress:', layout=Layout(height='25px', width='50%'),…"
      ]
     },
     "metadata": {},
     "output_type": "display_data"
    },
    {
     "name": "stdout",
     "output_type": "stream",
     "text": [
      "   Year StateAbbr StateDesc  ... CityFIPS    TractFIPS     Short_Question_Text\n",
      "0  2017        GA   Georgia  ...  1369000  13051004002          Annual Checkup\n",
      "1  2017        HI    Hawaii  ...    15003  15003003101  Coronary Heart Disease\n",
      "\n",
      "[2 rows x 24 columns]"
     ]
    }
   ],
   "source": [
    "df.limit(2).toPandas()"
   ]
  },
  {
   "cell_type": "markdown",
   "metadata": {},
   "source": [
    "## Data Preparation\n",
    "(1.) Changing the columns datatypes"
   ]
  },
  {
   "cell_type": "code",
   "execution_count": 12,
   "metadata": {},
   "outputs": [
    {
     "data": {
      "application/vnd.jupyter.widget-view+json": {
       "model_id": "26a349beef0d48e983d59f686547563f",
       "version_major": 2,
       "version_minor": 0
      },
      "text/plain": [
       "VBox()"
      ]
     },
     "metadata": {},
     "output_type": "display_data"
    },
    {
     "data": {
      "application/vnd.jupyter.widget-view+json": {
       "model_id": "",
       "version_major": 2,
       "version_minor": 0
      },
      "text/plain": [
       "FloatProgress(value=0.0, bar_style='info', description='Progress:', layout=Layout(height='25px', width='50%'),…"
      ]
     },
     "metadata": {},
     "output_type": "display_data"
    }
   ],
   "source": [
    "from pyspark.sql.functions import col , column\n",
    "one=one.withColumn(\"PopulationCount\",one[\"PopulationCount\"].cast(\"bigint\"))\n",
    "one=one.withColumn(\"Data_Value\",one[\"Data_Value\"].cast(\"float\"))\n",
    "one=one.withColumn(\"Low_Confidence_Limit\",one[\"Low_Confidence_Limit\"].cast(\"float\"))\n",
    "one=one.withColumn(\"High_Confidence_Limit\",one[\"High_Confidence_Limit\"].cast(\"float\"))"
   ]
  },
  {
   "cell_type": "code",
   "execution_count": 13,
   "metadata": {},
   "outputs": [
    {
     "data": {
      "application/vnd.jupyter.widget-view+json": {
       "model_id": "a6c04732c30440afa2f3b01a8973e312",
       "version_major": 2,
       "version_minor": 0
      },
      "text/plain": [
       "VBox()"
      ]
     },
     "metadata": {},
     "output_type": "display_data"
    },
    {
     "data": {
      "application/vnd.jupyter.widget-view+json": {
       "model_id": "",
       "version_major": 2,
       "version_minor": 0
      },
      "text/plain": [
       "FloatProgress(value=0.0, bar_style='info', description='Progress:', layout=Layout(height='25px', width='50%'),…"
      ]
     },
     "metadata": {},
     "output_type": "display_data"
    },
    {
     "name": "stdout",
     "output_type": "stream",
     "text": [
      "root\n",
      " |-- Year: string (nullable = true)\n",
      " |-- StateAbbr: string (nullable = true)\n",
      " |-- StateDesc: string (nullable = true)\n",
      " |-- CityName: string (nullable = true)\n",
      " |-- GeographicLevel: string (nullable = true)\n",
      " |-- DataSource: string (nullable = true)\n",
      " |-- Category: string (nullable = true)\n",
      " |-- UniqueID: string (nullable = true)\n",
      " |-- Measure: string (nullable = true)\n",
      " |-- Data_Value_Unit: string (nullable = true)\n",
      " |-- DataValueTypeID: string (nullable = true)\n",
      " |-- Data_Value_Type: string (nullable = true)\n",
      " |-- Data_Value: float (nullable = true)\n",
      " |-- Low_Confidence_Limit: float (nullable = true)\n",
      " |-- High_Confidence_Limit: float (nullable = true)\n",
      " |-- Data_Value_Footnote_Symbol: string (nullable = true)\n",
      " |-- Data_Value_Footnote: string (nullable = true)\n",
      " |-- PopulationCount: long (nullable = true)\n",
      " |-- GeoLocation: string (nullable = true)\n",
      " |-- CategoryID: string (nullable = true)\n",
      " |-- MeasureId: string (nullable = true)\n",
      " |-- CityFIPS: string (nullable = true)\n",
      " |-- TractFIPS: string (nullable = true)\n",
      " |-- Short_Question_Text: string (nullable = true)"
     ]
    }
   ],
   "source": [
    "one.printSchema()"
   ]
  },
  {
   "cell_type": "code",
   "execution_count": 14,
   "metadata": {},
   "outputs": [
    {
     "data": {
      "application/vnd.jupyter.widget-view+json": {
       "model_id": "066da5e96a6e460bb4791e28687eb083",
       "version_major": 2,
       "version_minor": 0
      },
      "text/plain": [
       "VBox()"
      ]
     },
     "metadata": {},
     "output_type": "display_data"
    },
    {
     "data": {
      "application/vnd.jupyter.widget-view+json": {
       "model_id": "",
       "version_major": 2,
       "version_minor": 0
      },
      "text/plain": [
       "FloatProgress(value=0.0, bar_style='info', description='Progress:', layout=Layout(height='25px', width='50%'),…"
      ]
     },
     "metadata": {},
     "output_type": "display_data"
    },
    {
     "name": "stdout",
     "output_type": "stream",
     "text": [
      "(810103, 24)"
     ]
    }
   ],
   "source": [
    "print((one.count(), len(one.columns)))"
   ]
  },
  {
   "cell_type": "markdown",
   "metadata": {},
   "source": [
    "import pandas as pd"
   ]
  },
  {
   "cell_type": "markdown",
   "metadata": {},
   "source": [
    "## (2.) Checking null values and the NAN values in the dataset"
   ]
  },
  {
   "cell_type": "code",
   "execution_count": 16,
   "metadata": {},
   "outputs": [
    {
     "data": {
      "application/vnd.jupyter.widget-view+json": {
       "model_id": "3460ae0bdac54279b16cc9733fe7705a",
       "version_major": 2,
       "version_minor": 0
      },
      "text/plain": [
       "VBox()"
      ]
     },
     "metadata": {},
     "output_type": "display_data"
    },
    {
     "data": {
      "application/vnd.jupyter.widget-view+json": {
       "model_id": "",
       "version_major": 2,
       "version_minor": 0
      },
      "text/plain": [
       "FloatProgress(value=0.0, bar_style='info', description='Progress:', layout=Layout(height='25px', width='50%'),…"
      ]
     },
     "metadata": {},
     "output_type": "display_data"
    },
    {
     "name": "stdout",
     "output_type": "stream",
     "text": [
      "+----+---------+---------+--------+---------------+----------+--------+--------+-------+---------------+---------------+---------------+----------+--------------------+---------------------+--------------------------+-------------------+---------------+-----------+----------+---------+--------+---------+-------------------+\n",
      "|Year|StateAbbr|StateDesc|CityName|GeographicLevel|DataSource|Category|UniqueID|Measure|Data_Value_Unit|DataValueTypeID|Data_Value_Type|Data_Value|Low_Confidence_Limit|High_Confidence_Limit|Data_Value_Footnote_Symbol|Data_Value_Footnote|PopulationCount|GeoLocation|CategoryID|MeasureId|CityFIPS|TractFIPS|Short_Question_Text|\n",
      "+----+---------+---------+--------+---------------+----------+--------+--------+-------+---------------+---------------+---------------+----------+--------------------+---------------------+--------------------------+-------------------+---------------+-----------+----------+---------+--------+---------+-------------------+\n",
      "|   0|        0|        0|       0|              0|         0|       0|       0|      0|              0|              0|              0|         0|                   0|                    0|                         0|                  0|              0|          0|         0|        0|       0|        0|                  0|\n",
      "+----+---------+---------+--------+---------------+----------+--------+--------+-------+---------------+---------------+---------------+----------+--------------------+---------------------+--------------------------+-------------------+---------------+-----------+----------+---------+--------+---------+-------------------+"
     ]
    }
   ],
   "source": [
    "from pyspark.sql.functions import isnan, when, count, col, isnull\n",
    "\n",
    "# Checking NAN values in the dataset --> None \n",
    "one.select([count(when(isnan(c), c)).alias(c) for c in one.columns]).show()"
   ]
  },
  {
   "cell_type": "code",
   "execution_count": 17,
   "metadata": {},
   "outputs": [
    {
     "data": {
      "application/vnd.jupyter.widget-view+json": {
       "model_id": "7ec57271597a4314978063d7f8eb4673",
       "version_major": 2,
       "version_minor": 0
      },
      "text/plain": [
       "VBox()"
      ]
     },
     "metadata": {},
     "output_type": "display_data"
    },
    {
     "data": {
      "application/vnd.jupyter.widget-view+json": {
       "model_id": "",
       "version_major": 2,
       "version_minor": 0
      },
      "text/plain": [
       "FloatProgress(value=0.0, bar_style='info', description='Progress:', layout=Layout(height='25px', width='50%'),…"
      ]
     },
     "metadata": {},
     "output_type": "display_data"
    },
    {
     "name": "stdout",
     "output_type": "stream",
     "text": [
      "   Year  StateAbbr  StateDesc  ...  CityFIPS  TractFIPS  Short_Question_Text\n",
      "0     0          0          0  ...        56      28056                    0\n",
      "\n",
      "[1 rows x 24 columns]"
     ]
    }
   ],
   "source": [
    "# Checking NULL values in the dataset --> None \n",
    "one.select([count(when(isnull(c), c)).alias(c) for c in one.columns]).toPandas()"
   ]
  },
  {
   "cell_type": "markdown",
   "metadata": {},
   "source": [
    "#### Saving original 'one' dataframe in two"
   ]
  },
  {
   "cell_type": "code",
   "execution_count": 18,
   "metadata": {},
   "outputs": [
    {
     "data": {
      "application/vnd.jupyter.widget-view+json": {
       "model_id": "0db55a32dd134254abbed45946dc6f6b",
       "version_major": 2,
       "version_minor": 0
      },
      "text/plain": [
       "VBox()"
      ]
     },
     "metadata": {},
     "output_type": "display_data"
    },
    {
     "data": {
      "application/vnd.jupyter.widget-view+json": {
       "model_id": "",
       "version_major": 2,
       "version_minor": 0
      },
      "text/plain": [
       "FloatProgress(value=0.0, bar_style='info', description='Progress:', layout=Layout(height='25px', width='50%'),…"
      ]
     },
     "metadata": {},
     "output_type": "display_data"
    }
   ],
   "source": [
    "two = one"
   ]
  },
  {
   "cell_type": "markdown",
   "metadata": {},
   "source": [
    "### (3.) Dropping columns and rows which are not required for our analysis and have null values.\n",
    "\n",
    "#### Dropping columns 'Data_Value_Footnote',  'Data_Value_Footnote_Symbol',  'TractFIPS',  'CityFIPS',  'Geolocation' \n",
    "\n",
    "#### And dropping all rows with null values"
   ]
  },
  {
   "cell_type": "code",
   "execution_count": 20,
   "metadata": {},
   "outputs": [
    {
     "data": {
      "application/vnd.jupyter.widget-view+json": {
       "model_id": "e586e6b0ee394414b29f2386bd3d47fa",
       "version_major": 2,
       "version_minor": 0
      },
      "text/plain": [
       "VBox()"
      ]
     },
     "metadata": {},
     "output_type": "display_data"
    },
    {
     "data": {
      "application/vnd.jupyter.widget-view+json": {
       "model_id": "",
       "version_major": 2,
       "version_minor": 0
      },
      "text/plain": [
       "FloatProgress(value=0.0, bar_style='info', description='Progress:', layout=Layout(height='25px', width='50%'),…"
      ]
     },
     "metadata": {},
     "output_type": "display_data"
    }
   ],
   "source": [
    "columns_to_drop = ['Data_Value_Footnote', 'Data_Value_Footnote_Symbol', 'TractFIPS', 'CityFIPS', 'GeoLocation']\n",
    "two = two.drop(*columns_to_drop)\n",
    "\n",
    "two = two.na.drop()\n",
    "\n",
    "# no data value for the tracts with population less than 50\n",
    "#two = two.where(col(\"Data_Value\").isNotNull())"
   ]
  },
  {
   "cell_type": "code",
   "execution_count": 21,
   "metadata": {},
   "outputs": [
    {
     "data": {
      "application/vnd.jupyter.widget-view+json": {
       "model_id": "1d1a588e4ee44b8db7eae37e01a42238",
       "version_major": 2,
       "version_minor": 0
      },
      "text/plain": [
       "VBox()"
      ]
     },
     "metadata": {},
     "output_type": "display_data"
    },
    {
     "data": {
      "application/vnd.jupyter.widget-view+json": {
       "model_id": "",
       "version_major": 2,
       "version_minor": 0
      },
      "text/plain": [
       "FloatProgress(value=0.0, bar_style='info', description='Progress:', layout=Layout(height='25px', width='50%'),…"
      ]
     },
     "metadata": {},
     "output_type": "display_data"
    },
    {
     "name": "stdout",
     "output_type": "stream",
     "text": [
      "   Year  StateAbbr  StateDesc  ...  CategoryID  MeasureId  Short_Question_Text\n",
      "0     0          0          0  ...           0          0                    0\n",
      "\n",
      "[1 rows x 19 columns]"
     ]
    }
   ],
   "source": [
    "two.select([count(when(isnull(c), c)).alias(c) for c in two.columns]).toPandas()"
   ]
  },
  {
   "cell_type": "code",
   "execution_count": 41,
   "metadata": {},
   "outputs": [
    {
     "data": {
      "application/vnd.jupyter.widget-view+json": {
       "model_id": "ecad442848b042838f5f1060254430e6",
       "version_major": 2,
       "version_minor": 0
      },
      "text/plain": [
       "VBox()"
      ]
     },
     "metadata": {},
     "output_type": "display_data"
    },
    {
     "data": {
      "application/vnd.jupyter.widget-view+json": {
       "model_id": "",
       "version_major": 2,
       "version_minor": 0
      },
      "text/plain": [
       "FloatProgress(value=0.0, bar_style='info', description='Progress:', layout=Layout(height='25px', width='50%'),…"
      ]
     },
     "metadata": {},
     "output_type": "display_data"
    }
   ],
   "source": [
    "pd.set_option('display.max_rows', 500)\n",
    "pd.set_option('display.max_columns', 500)\n",
    "pd.set_option('display.width', 1000)"
   ]
  },
  {
   "cell_type": "markdown",
   "metadata": {},
   "source": [
    "# Data Exploration"
   ]
  },
  {
   "cell_type": "code",
   "execution_count": 42,
   "metadata": {},
   "outputs": [
    {
     "data": {
      "application/vnd.jupyter.widget-view+json": {
       "model_id": "02530f7c590044099d55f70219b9ff7e",
       "version_major": 2,
       "version_minor": 0
      },
      "text/plain": [
       "VBox()"
      ]
     },
     "metadata": {},
     "output_type": "display_data"
    },
    {
     "data": {
      "application/vnd.jupyter.widget-view+json": {
       "model_id": "",
       "version_major": 2,
       "version_minor": 0
      },
      "text/plain": [
       "FloatProgress(value=0.0, bar_style='info', description='Progress:', layout=Layout(height='25px', width='50%'),…"
      ]
     },
     "metadata": {},
     "output_type": "display_data"
    },
    {
     "name": "stdout",
     "output_type": "stream",
     "text": [
      "   Year StateAbbr StateDesc  CityName GeographicLevel DataSource         Category             UniqueID                                                                                 Measure Data_Value_Unit DataValueTypeID   Data_Value_Type  Data_Value  Low_Confidence_Limit  High_Confidence_Limit  PopulationCount CategoryID MeasureId     Short_Question_Text\n",
      "0  2017        GA   Georgia  Savannah    Census Tract      BRFSS       Prevention  1369000-13051004002  Visits to doctor for routine checkup within the past Year among adults aged >=18 Years               %          CrdPrv  Crude prevalence   74.800003                  74.0                   75.5             3697    PREVENT   CHECKUP          Annual Checkup\n",
      "1  2017        HI    Hawaii  Honolulu    Census Tract      BRFSS  Health Outcomes          15003003101                                     Coronary heart disease among adults aged >=18 Years               %          CrdPrv  Crude prevalence    4.900000                   4.4                    5.6             3687    HLTHOUT       CHD  Coronary Heart Disease"
     ]
    }
   ],
   "source": [
    "#pd.set_option('display.max_rows', 500)\n",
    "#pd.set_option('display.max_columns', 500)\n",
    "#pd.set_option('display.width', 1000)\n",
    "\n",
    "two.createOrReplaceTempView(\"Viewone\")\n",
    "res1 = spark.sql(\"select * from Viewone\")\n",
    "\n",
    "res1.limit(2).toPandas()"
   ]
  },
  {
   "cell_type": "code",
   "execution_count": 45,
   "metadata": {},
   "outputs": [
    {
     "data": {
      "application/vnd.jupyter.widget-view+json": {
       "model_id": "41a4e23150894035a10b02892fa7c269",
       "version_major": 2,
       "version_minor": 0
      },
      "text/plain": [
       "VBox()"
      ]
     },
     "metadata": {},
     "output_type": "display_data"
    },
    {
     "data": {
      "application/vnd.jupyter.widget-view+json": {
       "model_id": "",
       "version_major": 2,
       "version_minor": 0
      },
      "text/plain": [
       "FloatProgress(value=0.0, bar_style='info', description='Progress:', layout=Layout(height='25px', width='50%'),…"
      ]
     },
     "metadata": {},
     "output_type": "display_data"
    },
    {
     "name": "stdout",
     "output_type": "stream",
     "text": [
      "+-------------------+\n",
      "|           Category|\n",
      "+-------------------+\n",
      "|Unhealthy Behaviors|\n",
      "|         Prevention|\n",
      "|    Health Outcomes|\n",
      "+-------------------+"
     ]
    }
   ],
   "source": [
    "res4 = spark.sql(\"select distinct Category from Viewone\")\n",
    "res4.show()"
   ]
  },
  {
   "cell_type": "markdown",
   "metadata": {},
   "source": [
    "### Unhealthy Behavior measures"
   ]
  },
  {
   "cell_type": "code",
   "execution_count": 24,
   "metadata": {},
   "outputs": [
    {
     "data": {
      "application/vnd.jupyter.widget-view+json": {
       "model_id": "a51c52e1077a4588af93c7f6a67a5a21",
       "version_major": 2,
       "version_minor": 0
      },
      "text/plain": [
       "VBox()"
      ]
     },
     "metadata": {},
     "output_type": "display_data"
    },
    {
     "data": {
      "application/vnd.jupyter.widget-view+json": {
       "model_id": "",
       "version_major": 2,
       "version_minor": 0
      },
      "text/plain": [
       "FloatProgress(value=0.0, bar_style='info', description='Progress:', layout=Layout(height='25px', width='50%'),…"
      ]
     },
     "metadata": {},
     "output_type": "display_data"
    },
    {
     "name": "stdout",
     "output_type": "stream",
     "text": [
      "                                                          Measure\n",
      "0                    Current smoking among adults aged >=18 Years\n",
      "1                     Binge drinking among adults aged >=18 Years\n",
      "2         Sleeping less than 7 hours among adults aged >=18 Years\n",
      "3  No leisure-time physical activity among adults aged >=18 Years\n",
      "4                            Obesity among adults aged >=18 Years"
     ]
    }
   ],
   "source": [
    "res5 = spark.sql(\"select distinct Measure from Viewone where Category = 'Unhealthy Behaviors'\")\n",
    "pd.set_option('display.max_colwidth',200)\n",
    "res5.limit(10).toPandas()\n"
   ]
  },
  {
   "cell_type": "markdown",
   "metadata": {},
   "source": [
    "### Prevention measures"
   ]
  },
  {
   "cell_type": "code",
   "execution_count": 47,
   "metadata": {},
   "outputs": [
    {
     "data": {
      "application/vnd.jupyter.widget-view+json": {
       "model_id": "3d461670986344cca3efdc73f48575d6",
       "version_major": 2,
       "version_minor": 0
      },
      "text/plain": [
       "VBox()"
      ]
     },
     "metadata": {},
     "output_type": "display_data"
    },
    {
     "data": {
      "application/vnd.jupyter.widget-view+json": {
       "model_id": "",
       "version_major": 2,
       "version_minor": 0
      },
      "text/plain": [
       "FloatProgress(value=0.0, bar_style='info', description='Progress:', layout=Layout(height='25px', width='50%'),…"
      ]
     },
     "metadata": {},
     "output_type": "display_data"
    },
    {
     "name": "stdout",
     "output_type": "stream",
     "text": [
      "                                                                                                                                                                                          Measure\n",
      "0  Older adult women aged >=65 Years who are up to date on a core set of clinical preventive services: Flu shot past Year, PPV shot ever, Colorectal cancer screening, and Mammogram past 2 Years\n",
      "1                                                                                                                                       Papanicolaou smear use among adult women aged 21–65 Years\n",
      "2                                                                                                          Visits to doctor for routine checkup within the past Year among adults aged >=18 Years\n",
      "3                                                                                                                                                    Mammography use among women aged 50–74 Years\n",
      "4                                                                                                                                  Current lack of health insurance among adults aged 18–64 Years\n",
      "5                                Older adult men aged >=65 Years who are up to date on a core set of clinical preventive services: Flu shot past Year, PPV shot ever, Colorectal cancer screening\n",
      "6                                                                                                                                              Cholesterol screening among adults aged >=18 Years\n",
      "7                                                                                           Taking medicine for high blood pressure control among adults aged >=18 Years with high blood pressure\n",
      "8                                                                                                                                 Visits to dentist or dental clinic among adults aged >=18 Years\n",
      "9                                                                                                            Fecal occult blood test, sigmoidoscopy, or colonoscopy among adults aged 50–75 Years"
     ]
    }
   ],
   "source": [
    "res6 = spark.sql(\"select distinct Measure from Viewone where Category = 'Prevention'\")\n",
    "res6.limit(110).toPandas()"
   ]
  },
  {
   "cell_type": "markdown",
   "metadata": {},
   "source": [
    "### Health Outcomes measures"
   ]
  },
  {
   "cell_type": "code",
   "execution_count": 27,
   "metadata": {},
   "outputs": [
    {
     "data": {
      "application/vnd.jupyter.widget-view+json": {
       "model_id": "53ff4597f1cf4ad8a2f177e969390b3d",
       "version_major": 2,
       "version_minor": 0
      },
      "text/plain": [
       "VBox()"
      ]
     },
     "metadata": {},
     "output_type": "display_data"
    },
    {
     "data": {
      "application/vnd.jupyter.widget-view+json": {
       "model_id": "",
       "version_major": 2,
       "version_minor": 0
      },
      "text/plain": [
       "FloatProgress(value=0.0, bar_style='info', description='Progress:', layout=Layout(height='25px', width='50%'),…"
      ]
     },
     "metadata": {},
     "output_type": "display_data"
    },
    {
     "name": "stdout",
     "output_type": "stream",
     "text": [
      "                                                                                     Measure\n",
      "0                                Cancer (excluding skin cancer) among adults aged >=18 Years\n",
      "1                                                     Arthritis among adults aged >=18 Years\n",
      "2                                                Current asthma among adults aged >=18 Years\n",
      "3   High cholesterol among adults aged >=18 Years who have been screened in the past 5 Years\n",
      "4                                        Coronary heart disease among adults aged >=18 Years\n",
      "5                          Mental health not good for >=14 days among adults aged >=18 Years\n",
      "6                         Chronic obstructive pulmonary disease among adults aged >=18 Years\n",
      "7                                        Chronic kidney disease among adults aged >=18 Years\n",
      "8                                           High blood pressure among adults aged >=18 Years\n",
      "9                                            Diagnosed diabetes among adults aged >=18 Years\n",
      "10                                               All teeth lost among adults aged >=65 Years\n",
      "11                                                       Stroke among adults aged >=18 Years\n",
      "12                       Physical health not good for >=14 days among adults aged >=18 Years"
     ]
    }
   ],
   "source": [
    "res7 = spark.sql(\"select distinct Measure from Viewone where Category = 'Health Outcomes'\")\n",
    "res7.limit(110).toPandas()\n"
   ]
  },
  {
   "cell_type": "code",
   "execution_count": 28,
   "metadata": {},
   "outputs": [
    {
     "data": {
      "application/vnd.jupyter.widget-view+json": {
       "model_id": "08bccc34f60849f9bfa3e4481b71610e",
       "version_major": 2,
       "version_minor": 0
      },
      "text/plain": [
       "VBox()"
      ]
     },
     "metadata": {},
     "output_type": "display_data"
    },
    {
     "data": {
      "application/vnd.jupyter.widget-view+json": {
       "model_id": "",
       "version_major": 2,
       "version_minor": 0
      },
      "text/plain": [
       "FloatProgress(value=0.0, bar_style='info', description='Progress:', layout=Layout(height='25px', width='50%'),…"
      ]
     },
     "metadata": {},
     "output_type": "display_data"
    },
    {
     "name": "stdout",
     "output_type": "stream",
     "text": [
      "   Year StateAbbr   StateDesc  ... CategoryID MeasureId     Short_Question_Text\n",
      "0  2017        WA  Washington  ...    HLTHOUT       CHD  Coronary Heart Disease\n",
      "\n",
      "[1 rows x 12 columns]"
     ]
    }
   ],
   "source": [
    "resWA = spark.sql(\"select Year,StateAbbr,StateDesc,CityName,GeographicLevel,Category,\\\n",
    "                 Measure,Data_Value,PopulationCount,CategoryID,MeasureId,Short_Question_Text \\\n",
    "                 from Viewone where Year = '2017'  and DataValueTypeID = 'CrdPrv' and StateAbbr='WA' \")\n",
    "resWA.limit(1).toPandas()"
   ]
  },
  {
   "cell_type": "code",
   "execution_count": 30,
   "metadata": {},
   "outputs": [
    {
     "data": {
      "application/vnd.jupyter.widget-view+json": {
       "model_id": "02991e1bd57b430eae86dde24c3df270",
       "version_major": 2,
       "version_minor": 0
      },
      "text/plain": [
       "VBox()"
      ]
     },
     "metadata": {},
     "output_type": "display_data"
    },
    {
     "data": {
      "application/vnd.jupyter.widget-view+json": {
       "model_id": "",
       "version_major": 2,
       "version_minor": 0
      },
      "text/plain": [
       "FloatProgress(value=0.0, bar_style='info', description='Progress:', layout=Layout(height='25px', width='50%'),…"
      ]
     },
     "metadata": {},
     "output_type": "display_data"
    }
   ],
   "source": [
    "resWA.createOrReplaceTempView(\"WA\")"
   ]
  },
  {
   "cell_type": "markdown",
   "metadata": {},
   "source": [
    "# Washington"
   ]
  },
  {
   "cell_type": "code",
   "execution_count": 31,
   "metadata": {},
   "outputs": [
    {
     "data": {
      "application/vnd.jupyter.widget-view+json": {
       "model_id": "c29670db2e9042398244b92ea3d119be",
       "version_major": 2,
       "version_minor": 0
      },
      "text/plain": [
       "VBox()"
      ]
     },
     "metadata": {},
     "output_type": "display_data"
    },
    {
     "data": {
      "application/vnd.jupyter.widget-view+json": {
       "model_id": "",
       "version_major": 2,
       "version_minor": 0
      },
      "text/plain": [
       "FloatProgress(value=0.0, bar_style='info', description='Progress:', layout=Layout(height='25px', width='50%'),…"
      ]
     },
     "metadata": {},
     "output_type": "display_data"
    },
    {
     "name": "stdout",
     "output_type": "stream",
     "text": [
      "          CityName\n",
      "0           Auburn\n",
      "1          Everett\n",
      "2       Bellingham\n",
      "3   Spokane Valley\n",
      "4           Yakima\n",
      "5        Vancouver\n",
      "6          Seattle\n",
      "7             Kent\n",
      "8        Kennewick\n",
      "9          Spokane\n",
      "10          Tacoma\n",
      "11        Bellevue\n",
      "12          Renton\n",
      "13     Federal Way"
     ]
    }
   ],
   "source": [
    "WA2= spark.sql(\"select distinct CityName from WA \")\n",
    "WA2.limit(20).toPandas()"
   ]
  },
  {
   "cell_type": "markdown",
   "metadata": {},
   "source": [
    "## What are the cities that have the highest and lowest heart-related issues?"
   ]
  },
  {
   "cell_type": "code",
   "execution_count": 32,
   "metadata": {},
   "outputs": [
    {
     "data": {
      "application/vnd.jupyter.widget-view+json": {
       "model_id": "83ffa12edaba4a18a8ec81ae5b835064",
       "version_major": 2,
       "version_minor": 0
      },
      "text/plain": [
       "VBox()"
      ]
     },
     "metadata": {},
     "output_type": "display_data"
    },
    {
     "data": {
      "application/vnd.jupyter.widget-view+json": {
       "model_id": "",
       "version_major": 2,
       "version_minor": 0
      },
      "text/plain": [
       "FloatProgress(value=0.0, bar_style='info', description='Progress:', layout=Layout(height='25px', width='50%'),…"
      ]
     },
     "metadata": {},
     "output_type": "display_data"
    },
    {
     "name": "stdout",
     "output_type": "stream",
     "text": [
      "          CityName                              Measure  Data_Value\n",
      "0           Yakima  Stroke among adults aged >=18 Years         3.7\n",
      "1          Spokane  Stroke among adults aged >=18 Years         3.2\n",
      "2   Spokane Valley  Stroke among adults aged >=18 Years         3.2\n",
      "3        Kennewick  Stroke among adults aged >=18 Years         3.1\n",
      "4        Vancouver  Stroke among adults aged >=18 Years         3.0\n",
      "5           Tacoma  Stroke among adults aged >=18 Years         3.0\n",
      "6             Kent  Stroke among adults aged >=18 Years         2.9\n",
      "7           Auburn  Stroke among adults aged >=18 Years         2.9\n",
      "8      Federal Way  Stroke among adults aged >=18 Years         2.9\n",
      "9          Everett  Stroke among adults aged >=18 Years         2.8\n",
      "10      Bellingham  Stroke among adults aged >=18 Years         2.5\n",
      "11          Renton  Stroke among adults aged >=18 Years         2.5\n",
      "12        Bellevue  Stroke among adults aged >=18 Years         2.2\n",
      "13         Seattle  Stroke among adults aged >=18 Years         2.2"
     ]
    }
   ],
   "source": [
    "WA8= spark.sql(\"select CityName, Measure, Data_Value from WA where \\\n",
    "    Measure = 'Stroke among adults aged >=18 Years'and GeographicLevel = 'City' order by Data_Value desc \")\n",
    "data1 = WA8.limit(20).toPandas()\n",
    "data1"
   ]
  },
  {
   "cell_type": "code",
   "execution_count": 33,
   "metadata": {},
   "outputs": [
    {
     "data": {
      "application/vnd.jupyter.widget-view+json": {
       "model_id": "998b5646f8924d3f9742fdc0338ada8f",
       "version_major": 2,
       "version_minor": 0
      },
      "text/plain": [
       "VBox()"
      ]
     },
     "metadata": {},
     "output_type": "display_data"
    },
    {
     "data": {
      "application/vnd.jupyter.widget-view+json": {
       "model_id": "",
       "version_major": 2,
       "version_minor": 0
      },
      "text/plain": [
       "FloatProgress(value=0.0, bar_style='info', description='Progress:', layout=Layout(height='25px', width='50%'),…"
      ]
     },
     "metadata": {},
     "output_type": "display_data"
    },
    {
     "name": "stdout",
     "output_type": "stream",
     "text": [
      "Collecting matplotlib\n",
      "  Downloading https://files.pythonhosted.org/packages/4e/11/06958a2b895a3853206dea1fb2a5b11bf044f626f90745987612af9c8f2c/matplotlib-3.1.2-cp36-cp36m-manylinux1_x86_64.whl (13.1MB)\n",
      "Requirement already satisfied: numpy>=1.11 in /usr/local/lib64/python3.6/site-packages (from matplotlib) (1.14.5)\n",
      "Collecting kiwisolver>=1.0.1\n",
      "  Downloading https://files.pythonhosted.org/packages/f8/a1/5742b56282449b1c0968197f63eae486eca2c35dcd334bab75ad524e0de1/kiwisolver-1.1.0-cp36-cp36m-manylinux1_x86_64.whl (90kB)\n",
      "Requirement already satisfied: python-dateutil>=2.1 in /mnt/tmp/1577404225502-0/lib/python3.6/site-packages (from matplotlib) (2.8.1)\n",
      "Collecting pyparsing!=2.0.4,!=2.1.2,!=2.1.6,>=2.0.1\n",
      "  Downloading https://files.pythonhosted.org/packages/5d/bc/1e58593167fade7b544bfe9502a26dc860940a79ab306e651e7f13be68c2/pyparsing-2.4.6-py2.py3-none-any.whl (67kB)\n",
      "Collecting cycler>=0.10\n",
      "  Downloading https://files.pythonhosted.org/packages/f7/d2/e07d3ebb2bd7af696440ce7e754c59dd546ffe1bbe732c8ab68b9c834e61/cycler-0.10.0-py2.py3-none-any.whl\n",
      "Requirement already satisfied: setuptools in /mnt/tmp/1577404225502-0/lib/python3.6/site-packages (from kiwisolver>=1.0.1->matplotlib) (42.0.2)\n",
      "Requirement already satisfied: six>=1.5 in /usr/local/lib/python3.6/site-packages (from python-dateutil>=2.1->matplotlib) (1.12.0)\n",
      "Installing collected packages: kiwisolver, pyparsing, cycler, matplotlib\n",
      "Successfully installed cycler-0.10.0 kiwisolver-1.1.0 matplotlib-3.1.2 pyparsing-2.4.6"
     ]
    }
   ],
   "source": [
    "sc.install_pypi_package(\"matplotlib\", \"https://pypi.org/simple\")"
   ]
  },
  {
   "cell_type": "code",
   "execution_count": 34,
   "metadata": {},
   "outputs": [
    {
     "data": {
      "application/vnd.jupyter.widget-view+json": {
       "model_id": "2d35a56a96004a1d888222dc07074ae8",
       "version_major": 2,
       "version_minor": 0
      },
      "text/plain": [
       "VBox()"
      ]
     },
     "metadata": {},
     "output_type": "display_data"
    },
    {
     "data": {
      "application/vnd.jupyter.widget-view+json": {
       "model_id": "",
       "version_major": 2,
       "version_minor": 0
      },
      "text/plain": [
       "FloatProgress(value=0.0, bar_style='info', description='Progress:', layout=Layout(height='25px', width='50%'),…"
      ]
     },
     "metadata": {},
     "output_type": "display_data"
    }
   ],
   "source": [
    "import matplotlib \n",
    "from matplotlib import pyplot as plt\n",
    "from pandas import DataFrame"
   ]
  },
  {
   "cell_type": "code",
   "execution_count": 48,
   "metadata": {},
   "outputs": [
    {
     "data": {
      "application/vnd.jupyter.widget-view+json": {
       "model_id": "b052cc5ac25e4bd783e901002d749cf1",
       "version_major": 2,
       "version_minor": 0
      },
      "text/plain": [
       "VBox()"
      ]
     },
     "metadata": {},
     "output_type": "display_data"
    },
    {
     "data": {
      "application/vnd.jupyter.widget-view+json": {
       "model_id": "",
       "version_major": 2,
       "version_minor": 0
      },
      "text/plain": [
       "FloatProgress(value=0.0, bar_style='info', description='Progress:', layout=Layout(height='25px', width='50%'),…"
      ]
     },
     "metadata": {},
     "output_type": "display_data"
    },
    {
     "name": "stdout",
     "output_type": "stream",
     "text": [
      "          CityName                                              Measure  Data_Value\n",
      "0           Yakima  Coronary heart disease among adults aged >=18 Years         6.9\n",
      "1   Spokane Valley  Coronary heart disease among adults aged >=18 Years         6.1\n",
      "2          Spokane  Coronary heart disease among adults aged >=18 Years         5.9\n",
      "3           Tacoma  Coronary heart disease among adults aged >=18 Years         5.6\n",
      "4        Kennewick  Coronary heart disease among adults aged >=18 Years         5.6\n",
      "5        Vancouver  Coronary heart disease among adults aged >=18 Years         5.6\n",
      "6          Everett  Coronary heart disease among adults aged >=18 Years         5.1\n",
      "7           Auburn  Coronary heart disease among adults aged >=18 Years         5.1\n",
      "8      Federal Way  Coronary heart disease among adults aged >=18 Years         4.9\n",
      "9             Kent  Coronary heart disease among adults aged >=18 Years         4.8\n",
      "10      Bellingham  Coronary heart disease among adults aged >=18 Years         4.8\n",
      "11          Renton  Coronary heart disease among adults aged >=18 Years         4.2\n",
      "12        Bellevue  Coronary heart disease among adults aged >=18 Years         4.1\n",
      "13         Seattle  Coronary heart disease among adults aged >=18 Years         3.7"
     ]
    }
   ],
   "source": [
    "WA11= spark.sql(\"select CityName, Measure, Data_Value from WA where \\\n",
    "    Measure = 'Coronary heart disease among adults aged >=18 Years'and GeographicLevel = 'City' order by Data_Value desc \")\n",
    "\n",
    "data2 = WA11.limit(20).toPandas()\n",
    "data2"
   ]
  },
  {
   "cell_type": "code",
   "execution_count": 37,
   "metadata": {},
   "outputs": [
    {
     "data": {
      "application/vnd.jupyter.widget-view+json": {
       "model_id": "c577a0c11f224204a8ced0d90e319cf7",
       "version_major": 2,
       "version_minor": 0
      },
      "text/plain": [
       "VBox()"
      ]
     },
     "metadata": {},
     "output_type": "display_data"
    },
    {
     "data": {
      "application/vnd.jupyter.widget-view+json": {
       "model_id": "",
       "version_major": 2,
       "version_minor": 0
      },
      "text/plain": [
       "FloatProgress(value=0.0, bar_style='info', description='Progress:', layout=Layout(height='25px', width='50%'),…"
      ]
     },
     "metadata": {},
     "output_type": "display_data"
    },
    {
     "name": "stdout",
     "output_type": "stream",
     "text": [
      "<matplotlib.axes._subplots.AxesSubplot object at 0x7fbcbf5b6978>"
     ]
    }
   ],
   "source": [
    "fig1, ax2 = plt.subplots(ncols=2, figsize=(10,5))\n",
    "\n",
    "data1.plot.bar(title = 'HEALTH OUTCOMES:Stroke among adults ', x ='CityName', y='Data_Value', figsize=(20, 5), color ='orange', ax= ax2[0] )\n",
    "data2.plot.bar(title = 'HEALTH OUTCOMES:Coronary heart disease', x ='CityName', y='Data_Value', figsize=(20, 5), color ='green', ax= ax2[1] )"
   ]
  },
  {
   "cell_type": "code",
   "execution_count": 38,
   "metadata": {},
   "outputs": [
    {
     "data": {
      "application/vnd.jupyter.widget-view+json": {
       "model_id": "",
       "version_major": 2,
       "version_minor": 0
      },
      "text/plain": [
       "FloatProgress(value=0.0, bar_style='info', description='Progress:', layout=Layout(height='25px', width='50%'),…"
      ]
     },
     "metadata": {},
     "output_type": "display_data"
    },
    {
     "data": {
      "image/png": "[encoded data removed]",
      "text/plain": [
       "<IPython.core.display.Image object>"
      ]
     },
     "metadata": {},
     "output_type": "display_data"
    }
   ],
   "source": [
    "%matplot plt"
   ]
  },
  {
   "cell_type": "code",
   "execution_count": 49,
   "metadata": {},
   "outputs": [
    {
     "data": {
      "application/vnd.jupyter.widget-view+json": {
       "model_id": "c4eb332f9ad945959d3555bbab8104d5",
       "version_major": 2,
       "version_minor": 0
      },
      "text/plain": [
       "VBox()"
      ]
     },
     "metadata": {},
     "output_type": "display_data"
    },
    {
     "data": {
      "application/vnd.jupyter.widget-view+json": {
       "model_id": "",
       "version_major": 2,
       "version_minor": 0
      },
      "text/plain": [
       "FloatProgress(value=0.0, bar_style='info', description='Progress:', layout=Layout(height='25px', width='50%'),…"
      ]
     },
     "metadata": {},
     "output_type": "display_data"
    },
    {
     "name": "stdout",
     "output_type": "stream",
     "text": [
      "          CityName                                           Measure  Data_Value\n",
      "0           Yakima  High blood pressure among adults aged >=18 Years   32.200001\n",
      "1           Tacoma  High blood pressure among adults aged >=18 Years   31.500000\n",
      "2          Everett  High blood pressure among adults aged >=18 Years   29.799999\n",
      "3   Spokane Valley  High blood pressure among adults aged >=18 Years   29.299999\n",
      "4        Kennewick  High blood pressure among adults aged >=18 Years   29.000000\n",
      "5        Vancouver  High blood pressure among adults aged >=18 Years   28.900000\n",
      "6          Spokane  High blood pressure among adults aged >=18 Years   28.400000\n",
      "7      Federal Way  High blood pressure among adults aged >=18 Years   26.200001\n",
      "8           Auburn  High blood pressure among adults aged >=18 Years   26.100000\n",
      "9             Kent  High blood pressure among adults aged >=18 Years   25.600000\n",
      "10      Bellingham  High blood pressure among adults aged >=18 Years   24.700001\n",
      "11          Renton  High blood pressure among adults aged >=18 Years   24.200001\n",
      "12        Bellevue  High blood pressure among adults aged >=18 Years   23.100000\n",
      "13         Seattle  High blood pressure among adults aged >=18 Years   22.000000"
     ]
    }
   ],
   "source": [
    "WA10= spark.sql(\"select CityName, Measure, Data_Value from WA where \\\n",
    "    Measure = 'High blood pressure among adults aged >=18 Years'and GeographicLevel = 'City' order by Data_Value desc \")\n",
    "data3=WA10.limit(100).toPandas()\n",
    "data3"
   ]
  },
  {
   "cell_type": "code",
   "execution_count": 50,
   "metadata": {},
   "outputs": [
    {
     "data": {
      "application/vnd.jupyter.widget-view+json": {
       "model_id": "34e4e47478b342e9b77d39b90bbc74e8",
       "version_major": 2,
       "version_minor": 0
      },
      "text/plain": [
       "VBox()"
      ]
     },
     "metadata": {},
     "output_type": "display_data"
    },
    {
     "data": {
      "application/vnd.jupyter.widget-view+json": {
       "model_id": "",
       "version_major": 2,
       "version_minor": 0
      },
      "text/plain": [
       "FloatProgress(value=0.0, bar_style='info', description='Progress:', layout=Layout(height='25px', width='50%'),…"
      ]
     },
     "metadata": {},
     "output_type": "display_data"
    },
    {
     "name": "stdout",
     "output_type": "stream",
     "text": [
      "          CityName                                                                                   Measure  Data_Value\n",
      "0        Kennewick  High cholesterol among adults aged >=18 Years who have been screened in the past 5 Years   33.099998\n",
      "1   Spokane Valley  High cholesterol among adults aged >=18 Years who have been screened in the past 5 Years   32.599998\n",
      "2        Vancouver  High cholesterol among adults aged >=18 Years who have been screened in the past 5 Years   31.700001\n",
      "3          Spokane  High cholesterol among adults aged >=18 Years who have been screened in the past 5 Years   31.600000\n",
      "4           Yakima  High cholesterol among adults aged >=18 Years who have been screened in the past 5 Years   31.600000\n",
      "5           Tacoma  High cholesterol among adults aged >=18 Years who have been screened in the past 5 Years   31.200001\n",
      "6          Everett  High cholesterol among adults aged >=18 Years who have been screened in the past 5 Years   29.900000\n",
      "7           Auburn  High cholesterol among adults aged >=18 Years who have been screened in the past 5 Years   29.700001\n",
      "8      Federal Way  High cholesterol among adults aged >=18 Years who have been screened in the past 5 Years   29.600000\n",
      "9       Bellingham  High cholesterol among adults aged >=18 Years who have been screened in the past 5 Years   28.799999\n",
      "10            Kent  High cholesterol among adults aged >=18 Years who have been screened in the past 5 Years   28.799999\n",
      "11        Bellevue  High cholesterol among adults aged >=18 Years who have been screened in the past 5 Years   28.700001\n",
      "12          Renton  High cholesterol among adults aged >=18 Years who have been screened in the past 5 Years   28.000000\n",
      "13         Seattle  High cholesterol among adults aged >=18 Years who have been screened in the past 5 Years   26.500000"
     ]
    }
   ],
   "source": [
    "WA100= spark.sql(\"select CityName, Measure, Data_Value from WA where \\\n",
    "    Measure = 'High cholesterol among adults aged >=18 Years who have been screened in the past 5 Years'and GeographicLevel = 'City' order by Data_Value desc \")\n",
    "WA100.limit(100).toPandas()\n",
    "data4 = WA100.limit(100).toPandas()\n",
    "data4"
   ]
  },
  {
   "cell_type": "code",
   "execution_count": 51,
   "metadata": {},
   "outputs": [
    {
     "data": {
      "application/vnd.jupyter.widget-view+json": {
       "model_id": "b85901391426428a808daad95dce7af2",
       "version_major": 2,
       "version_minor": 0
      },
      "text/plain": [
       "VBox()"
      ]
     },
     "metadata": {},
     "output_type": "display_data"
    },
    {
     "data": {
      "application/vnd.jupyter.widget-view+json": {
       "model_id": "",
       "version_major": 2,
       "version_minor": 0
      },
      "text/plain": [
       "FloatProgress(value=0.0, bar_style='info', description='Progress:', layout=Layout(height='25px', width='50%'),…"
      ]
     },
     "metadata": {},
     "output_type": "display_data"
    },
    {
     "data": {
      "image/png": "[encoded data removed]",
      "text/plain": [
       "<IPython.core.display.Image object>"
      ]
     },
     "metadata": {},
     "output_type": "display_data"
    }
   ],
   "source": [
    "\n",
    "fig, ax = plt.subplots(ncols=2, figsize=(10,5))\n",
    "\n",
    "#df = pd.DataFrame([[5.1, 3.5, 0], [4.9, 3.0, 0], [7.0, 3.2, 1],\n",
    "#                [6.4, 3.2, 1], [5.9, 3.0, 2], [7.1, 4.5, 2]],\n",
    "#                columns=['X', 'Y', 'value'])\n",
    "data3.plot.bar(title = 'HEALTH OUTCOMES:High blood pressure', x ='CityName', y='Data_Value', figsize=(20, 5), color ='red', ax= ax[0] )\n",
    "data4.plot.bar(title = 'HEALTH OUTCOMES:High cholesterol', x ='CityName', y='Data_Value', figsize=(20, 5), color ='blue', ax= ax[1])\n",
    "#df.plot.scatter(x='X', y='Y', c='red', ax=ax[1])\n",
    "%matplot plt"
   ]
  },
  {
   "cell_type": "markdown",
   "metadata": {},
   "source": [
    "#### Answer: We found that Yakima consistently has the highest percentages among all heart-related issues with Seattle and Bellevue having the lowest across all heart-related issues"
   ]
  },
  {
   "cell_type": "markdown",
   "metadata": {},
   "source": [
    "### What are the preventative measures in place?"
   ]
  },
  {
   "cell_type": "code",
   "execution_count": 52,
   "metadata": {},
   "outputs": [
    {
     "data": {
      "application/vnd.jupyter.widget-view+json": {
       "model_id": "7bb3801cd5a04c0a9fe00168bac5d7f0",
       "version_major": 2,
       "version_minor": 0
      },
      "text/plain": [
       "VBox()"
      ]
     },
     "metadata": {},
     "output_type": "display_data"
    },
    {
     "data": {
      "application/vnd.jupyter.widget-view+json": {
       "model_id": "",
       "version_major": 2,
       "version_minor": 0
      },
      "text/plain": [
       "FloatProgress(value=0.0, bar_style='info', description='Progress:', layout=Layout(height='25px', width='50%'),…"
      ]
     },
     "metadata": {},
     "output_type": "display_data"
    },
    {
     "name": "stdout",
     "output_type": "stream",
     "text": [
      "   CityName                                             Measure  Data_Value    Category\n",
      "0  Bellevue  Cholesterol screening among adults aged >=18 Years   81.699997  Prevention\n",
      "1   Seattle  Cholesterol screening among adults aged >=18 Years   78.000000  Prevention\n",
      "2    Yakima  Cholesterol screening among adults aged >=18 Years   74.099998  Prevention"
     ]
    }
   ],
   "source": [
    "WA60= spark.sql(\"select CityName,Measure,Data_Value,Category from WA where \\\n",
    "    Measure = 'Cholesterol screening among adults aged >=18 Years' and GeographicLevel ='City' and \\\n",
    "    Category = 'Prevention' and CityName in ('Bellevue','Seattle','Yakima')order by Data_Value \\\n",
    "      desc\")\n",
    "data5=WA60.limit(14).toPandas()\n",
    "data5"
   ]
  },
  {
   "cell_type": "code",
   "execution_count": 53,
   "metadata": {},
   "outputs": [
    {
     "data": {
      "application/vnd.jupyter.widget-view+json": {
       "model_id": "166fc2778a7c4ac3b3c26e627634659d",
       "version_major": 2,
       "version_minor": 0
      },
      "text/plain": [
       "VBox()"
      ]
     },
     "metadata": {},
     "output_type": "display_data"
    },
    {
     "data": {
      "application/vnd.jupyter.widget-view+json": {
       "model_id": "",
       "version_major": 2,
       "version_minor": 0
      },
      "text/plain": [
       "FloatProgress(value=0.0, bar_style='info', description='Progress:', layout=Layout(height='25px', width='50%'),…"
      ]
     },
     "metadata": {},
     "output_type": "display_data"
    },
    {
     "name": "stdout",
     "output_type": "stream",
     "text": [
      "   CityName                                                                                                Measure  Data_Value    Category\n",
      "0    Yakima  Taking medicine for high blood pressure control among adults aged >=18 Years with high blood pressure   70.199997  Prevention\n",
      "1  Bellevue  Taking medicine for high blood pressure control among adults aged >=18 Years with high blood pressure   66.000000  Prevention\n",
      "2   Seattle  Taking medicine for high blood pressure control among adults aged >=18 Years with high blood pressure   62.500000  Prevention"
     ]
    }
   ],
   "source": [
    "WA61= spark.sql(\"select CityName,Measure,Data_Value,Category from WA where \\\n",
    "    Measure = 'Taking medicine for high blood pressure control among adults aged >=18 Years with high blood pressure' and GeographicLevel ='City' and \\\n",
    "    Category = 'Prevention' and CityName in ('Bellevue','Seattle','Yakima')order by Data_Value \\\n",
    "      desc\")\n",
    "data6=WA61.limit(14).toPandas()\n",
    "data6"
   ]
  },
  {
   "cell_type": "code",
   "execution_count": 54,
   "metadata": {},
   "outputs": [
    {
     "data": {
      "application/vnd.jupyter.widget-view+json": {
       "model_id": "5624aa7a84554a70bfaf6f40463fcb0c",
       "version_major": 2,
       "version_minor": 0
      },
      "text/plain": [
       "VBox()"
      ]
     },
     "metadata": {},
     "output_type": "display_data"
    },
    {
     "data": {
      "application/vnd.jupyter.widget-view+json": {
       "model_id": "",
       "version_major": 2,
       "version_minor": 0
      },
      "text/plain": [
       "FloatProgress(value=0.0, bar_style='info', description='Progress:', layout=Layout(height='25px', width='50%'),…"
      ]
     },
     "metadata": {},
     "output_type": "display_data"
    },
    {
     "name": "stdout",
     "output_type": "stream",
     "text": [
      "   CityName                                                                                 Measure  Data_Value    Category\n",
      "0  Bellevue  Visits to doctor for routine checkup within the past Year among adults aged >=18 Years   64.400002  Prevention\n",
      "1    Yakima  Visits to doctor for routine checkup within the past Year among adults aged >=18 Years   62.099998  Prevention\n",
      "2   Seattle  Visits to doctor for routine checkup within the past Year among adults aged >=18 Years   61.900002  Prevention"
     ]
    }
   ],
   "source": [
    "WA62= spark.sql(\"select CityName,Measure,Data_Value,Category from WA where \\\n",
    "    Measure = 'Visits to doctor for routine checkup within the past Year among adults aged >=18 Years' and GeographicLevel ='City' and \\\n",
    "    Category = 'Prevention' and CityName in ('Bellevue','Seattle','Yakima')order by Data_Value \\\n",
    "      desc\")\n",
    "data7=WA62.limit(14).toPandas()\n",
    "data7"
   ]
  },
  {
   "cell_type": "code",
   "execution_count": 55,
   "metadata": {},
   "outputs": [
    {
     "data": {
      "application/vnd.jupyter.widget-view+json": {
       "model_id": "58ce78e967b14a81a0aaa3e892079523",
       "version_major": 2,
       "version_minor": 0
      },
      "text/plain": [
       "VBox()"
      ]
     },
     "metadata": {},
     "output_type": "display_data"
    },
    {
     "data": {
      "application/vnd.jupyter.widget-view+json": {
       "model_id": "",
       "version_major": 2,
       "version_minor": 0
      },
      "text/plain": [
       "FloatProgress(value=0.0, bar_style='info', description='Progress:', layout=Layout(height='25px', width='50%'),…"
      ]
     },
     "metadata": {},
     "output_type": "display_data"
    },
    {
     "data": {
      "image/png": "[encoded data removed]",
      "text/plain": [
       "<IPython.core.display.Image object>"
      ]
     },
     "metadata": {},
     "output_type": "display_data"
    }
   ],
   "source": [
    "fig1, ax1 = plt.subplots(ncols=3, figsize=(13,10))\n",
    "\n",
    "data5.plot.bar(title = 'Cholesterol screening', x ='CityName', y='Data_Value', figsize=(20, 5), color ='yellow', ax= ax1[0] )\n",
    "data6.plot.bar(title = 'Taking medicine for high blood pressure', x ='CityName', y='Data_Value', figsize=(20, 5), color ='green', ax= ax1[1])\n",
    "data7.plot.bar(title = 'Routine checkup', x ='CityName', y='Data_Value', figsize=(20, 5), color ='purple', ax= ax1[2])\n",
    "%matplot plt"
   ]
  },
  {
   "cell_type": "markdown",
   "metadata": {},
   "source": [
    "### Answer: We found that in all three cities, there is no significant amount of disparity in taking the prevention measures. For example, most of the participants in all three cities were taking blood pressure medication, regularly visiting the doctor, and also getting screened for cholesterol."
   ]
  },
  {
   "cell_type": "markdown",
   "metadata": {},
   "source": [
    "## Are there unhealthy behaviors that contribute to these measures for each city?"
   ]
  },
  {
   "cell_type": "code",
   "execution_count": 56,
   "metadata": {},
   "outputs": [
    {
     "data": {
      "application/vnd.jupyter.widget-view+json": {
       "model_id": "ebef6495f8424bd7badc02194c1d96ea",
       "version_major": 2,
       "version_minor": 0
      },
      "text/plain": [
       "VBox()"
      ]
     },
     "metadata": {},
     "output_type": "display_data"
    },
    {
     "data": {
      "application/vnd.jupyter.widget-view+json": {
       "model_id": "",
       "version_major": 2,
       "version_minor": 0
      },
      "text/plain": [
       "FloatProgress(value=0.0, bar_style='info', description='Progress:', layout=Layout(height='25px', width='50%'),…"
      ]
     },
     "metadata": {},
     "output_type": "display_data"
    },
    {
     "name": "stdout",
     "output_type": "stream",
     "text": [
      "   CityName                               Measure  Data_Value             Category\n",
      "0    Yakima  Obesity among adults aged >=18 Years   36.799999  Unhealthy Behaviors\n",
      "1   Seattle  Obesity among adults aged >=18 Years   20.799999  Unhealthy Behaviors\n",
      "2  Bellevue  Obesity among adults aged >=18 Years   18.000000  Unhealthy Behaviors"
     ]
    }
   ],
   "source": [
    "WA6= spark.sql(\"select CityName,Measure,Data_Value,Category from WA where \\\n",
    "    Measure = 'Obesity among adults aged >=18 Years' and GeographicLevel ='City' and \\\n",
    "    CityName in ('Bellevue','Seattle','Yakima')order by Data_Value \\\n",
    "      desc\")\n",
    "data8=WA6.limit(14).toPandas()\n",
    "data8"
   ]
  },
  {
   "cell_type": "code",
   "execution_count": 57,
   "metadata": {},
   "outputs": [
    {
     "data": {
      "application/vnd.jupyter.widget-view+json": {
       "model_id": "2f1ff067d30547a6b285527e8ad61099",
       "version_major": 2,
       "version_minor": 0
      },
      "text/plain": [
       "VBox()"
      ]
     },
     "metadata": {},
     "output_type": "display_data"
    },
    {
     "data": {
      "application/vnd.jupyter.widget-view+json": {
       "model_id": "",
       "version_major": 2,
       "version_minor": 0
      },
      "text/plain": [
       "FloatProgress(value=0.0, bar_style='info', description='Progress:', layout=Layout(height='25px', width='50%'),…"
      ]
     },
     "metadata": {},
     "output_type": "display_data"
    },
    {
     "name": "stdout",
     "output_type": "stream",
     "text": [
      "   CityName                                       Measure  Data_Value             Category\n",
      "0    Yakima  Current smoking among adults aged >=18 Years        17.9  Unhealthy Behaviors\n",
      "1   Seattle  Current smoking among adults aged >=18 Years        10.2  Unhealthy Behaviors\n",
      "2  Bellevue  Current smoking among adults aged >=18 Years         8.4  Unhealthy Behaviors"
     ]
    }
   ],
   "source": [
    "\n",
    "WA3= spark.sql(\"select CityName,Measure,Data_Value,Category from WA where \\\n",
    "    Measure = 'Current smoking among adults aged >=18 Years' and GeographicLevel ='City' and \\\n",
    "    CityName in ('Bellevue','Seattle','Yakima')order by Data_Value \\\n",
    "      desc\")\n",
    "data9=WA3.limit(14).toPandas()\n",
    "data9"
   ]
  },
  {
   "cell_type": "code",
   "execution_count": 58,
   "metadata": {},
   "outputs": [
    {
     "data": {
      "application/vnd.jupyter.widget-view+json": {
       "model_id": "466a04bb0f9341b8947d626518dc2094",
       "version_major": 2,
       "version_minor": 0
      },
      "text/plain": [
       "VBox()"
      ]
     },
     "metadata": {},
     "output_type": "display_data"
    },
    {
     "data": {
      "application/vnd.jupyter.widget-view+json": {
       "model_id": "",
       "version_major": 2,
       "version_minor": 0
      },
      "text/plain": [
       "FloatProgress(value=0.0, bar_style='info', description='Progress:', layout=Layout(height='25px', width='50%'),…"
      ]
     },
     "metadata": {},
     "output_type": "display_data"
    },
    {
     "name": "stdout",
     "output_type": "stream",
     "text": [
      "   CityName                                                         Measure  Data_Value             Category\n",
      "0    Yakima  No leisure-time physical activity among adults aged >=18 Years        28.5  Unhealthy Behaviors\n",
      "1   Seattle  No leisure-time physical activity among adults aged >=18 Years        14.3  Unhealthy Behaviors\n",
      "2  Bellevue  No leisure-time physical activity among adults aged >=18 Years        13.6  Unhealthy Behaviors"
     ]
    }
   ],
   "source": [
    "WA5= spark.sql(\"select CityName,Measure,Data_Value,Category from WA where \\\n",
    "    Measure = 'No leisure-time physical activity among adults aged >=18 Years' and GeographicLevel ='City' and \\\n",
    "    CityName in ('Bellevue','Seattle','Yakima')order by Data_Value \\\n",
    "      desc\")\n",
    "data10=WA5.limit(14).toPandas()\n",
    "data10"
   ]
  },
  {
   "cell_type": "code",
   "execution_count": 59,
   "metadata": {},
   "outputs": [
    {
     "data": {
      "application/vnd.jupyter.widget-view+json": {
       "model_id": "649d5ea78449429184342634afcc8da3",
       "version_major": 2,
       "version_minor": 0
      },
      "text/plain": [
       "VBox()"
      ]
     },
     "metadata": {},
     "output_type": "display_data"
    },
    {
     "data": {
      "application/vnd.jupyter.widget-view+json": {
       "model_id": "",
       "version_major": 2,
       "version_minor": 0
      },
      "text/plain": [
       "FloatProgress(value=0.0, bar_style='info', description='Progress:', layout=Layout(height='25px', width='50%'),…"
      ]
     },
     "metadata": {},
     "output_type": "display_data"
    },
    {
     "data": {
      "image/png": "[encoded data removed]",
      "text/plain": [
       "<IPython.core.display.Image object>"
      ]
     },
     "metadata": {},
     "output_type": "display_data"
    }
   ],
   "source": [
    "fig3, ax3 = plt.subplots(ncols=3, figsize=(13,10))\n",
    "data8.plot.bar(title = 'UNHEALTHY BEHAVIORS: Obesity among adults', x ='CityName', y='Data_Value', figsize=(20, 5), color ='red', ax= ax3[0] )\n",
    "data9.plot.bar(title = 'UNHEALTHY BEHAVIORS: smoking among adults', x ='CityName', y='Data_Value', figsize=(20, 5), color ='teal', ax= ax3[1])\n",
    "data10.plot.bar(title = 'UNHEALTHY BEHAVIORS: No physical activity', x ='CityName', y='Data_Value', figsize=(20, 5), color ='turquoise', ax= ax3[2])\n",
    "%matplot plt"
   ]
  },
  {
   "cell_type": "markdown",
   "metadata": {},
   "source": [
    "### Answer: As compared to the preventative measures, the unhealthy behaviors show a drastic difference betweent the cities. This means that despite going to the doctor, taking medicine, and cholesterol screening, the residents in Yakima are still largely unhealthier because they indulge in too many unhealthy behaviors."
   ]
  },
  {
   "cell_type": "markdown",
   "metadata": {},
   "source": [
    "## Is this based on population?"
   ]
  },
  {
   "cell_type": "code",
   "execution_count": 60,
   "metadata": {},
   "outputs": [
    {
     "data": {
      "application/vnd.jupyter.widget-view+json": {
       "model_id": "0b1baa9011ee4479bf42a7fc37b3d09d",
       "version_major": 2,
       "version_minor": 0
      },
      "text/plain": [
       "VBox()"
      ]
     },
     "metadata": {},
     "output_type": "display_data"
    },
    {
     "data": {
      "application/vnd.jupyter.widget-view+json": {
       "model_id": "",
       "version_major": 2,
       "version_minor": 0
      },
      "text/plain": [
       "FloatProgress(value=0.0, bar_style='info', description='Progress:', layout=Layout(height='25px', width='50%'),…"
      ]
     },
     "metadata": {},
     "output_type": "display_data"
    },
    {
     "name": "stdout",
     "output_type": "stream",
     "text": [
      "   CityName  PopulationCount\n",
      "0   Seattle           608660\n",
      "1  Bellevue           122363\n",
      "2    Yakima            91067"
     ]
    }
   ],
   "source": [
    "WA7= spark.sql(\"select CityName,PopulationCount from WA where \\\n",
    "    Measure = 'Obesity among adults aged >=18 Years' and GeographicLevel ='City'and \\\n",
    "    CityName in ('Bellevue','Seattle','Yakima') order by PopulationCount \\\n",
    "      desc\")\n",
    "data11=WA7.limit(14).toPandas()\n",
    "data11"
   ]
  },
  {
   "cell_type": "code",
   "execution_count": 61,
   "metadata": {},
   "outputs": [
    {
     "data": {
      "application/vnd.jupyter.widget-view+json": {
       "model_id": "55638caf488a4144a7283f60de7416b6",
       "version_major": 2,
       "version_minor": 0
      },
      "text/plain": [
       "VBox()"
      ]
     },
     "metadata": {},
     "output_type": "display_data"
    },
    {
     "data": {
      "application/vnd.jupyter.widget-view+json": {
       "model_id": "",
       "version_major": 2,
       "version_minor": 0
      },
      "text/plain": [
       "FloatProgress(value=0.0, bar_style='info', description='Progress:', layout=Layout(height='25px', width='50%'),…"
      ]
     },
     "metadata": {},
     "output_type": "display_data"
    },
    {
     "data": {
      "image/png": "[encoded data removed]",
      "text/plain": [
       "<IPython.core.display.Image object>"
      ]
     },
     "metadata": {},
     "output_type": "display_data"
    }
   ],
   "source": [
    "data11.plot.bar(title = 'POPULATION COMPARISON', x ='CityName', y='PopulationCount', figsize=(12,7), color ='pink')\n",
    "%matplot plt\n"
   ]
  },
  {
   "cell_type": "markdown",
   "metadata": {},
   "source": [
    "### Answer: There is no obvious correlation based on the population sizes for each city. For example, Spokane is densely populated despite being far away from large urban centers like Seattle and Bellevue."
   ]
  },
  {
   "cell_type": "markdown",
   "metadata": {},
   "source": [
    "### Is this a regional trend across the US?"
   ]
  },
  {
   "cell_type": "code",
   "execution_count": 64,
   "metadata": {},
   "outputs": [
    {
     "data": {
      "application/vnd.jupyter.widget-view+json": {
       "model_id": "ee0113766c684535851213c916b6c722",
       "version_major": 2,
       "version_minor": 0
      },
      "text/plain": [
       "VBox()"
      ]
     },
     "metadata": {},
     "output_type": "display_data"
    },
    {
     "data": {
      "application/vnd.jupyter.widget-view+json": {
       "model_id": "",
       "version_major": 2,
       "version_minor": 0
      },
      "text/plain": [
       "FloatProgress(value=0.0, bar_style='info', description='Progress:', layout=Layout(height='25px', width='50%'),…"
      ]
     },
     "metadata": {},
     "output_type": "display_data"
    }
   ],
   "source": [
    "\n",
    "resTX = spark.sql(\"select  Year,StateAbbr,StateDesc,CityName,GeographicLevel,Category, \\\n",
    "        Measure,Data_Value,PopulationCount,CategoryID,MeasureId,Short_Question_Text \\\n",
    "        from Viewone where Year = '2017'  and DataValueTypeID = 'CrdPrv' and StateAbbr='TX' \")\n"
   ]
  },
  {
   "cell_type": "code",
   "execution_count": 66,
   "metadata": {},
   "outputs": [
    {
     "data": {
      "application/vnd.jupyter.widget-view+json": {
       "model_id": "b4d4002b98854796a34828ed8a2803b9",
       "version_major": 2,
       "version_minor": 0
      },
      "text/plain": [
       "VBox()"
      ]
     },
     "metadata": {},
     "output_type": "display_data"
    },
    {
     "data": {
      "application/vnd.jupyter.widget-view+json": {
       "model_id": "",
       "version_major": 2,
       "version_minor": 0
      },
      "text/plain": [
       "FloatProgress(value=0.0, bar_style='info', description='Progress:', layout=Layout(height='25px', width='50%'),…"
      ]
     },
     "metadata": {},
     "output_type": "display_data"
    }
   ],
   "source": [
    "resTX.createOrReplaceTempView(\"TXview\")"
   ]
  },
  {
   "cell_type": "code",
   "execution_count": 67,
   "metadata": {},
   "outputs": [
    {
     "data": {
      "application/vnd.jupyter.widget-view+json": {
       "model_id": "db8d5d1e07024917b82574c88f552afc",
       "version_major": 2,
       "version_minor": 0
      },
      "text/plain": [
       "VBox()"
      ]
     },
     "metadata": {},
     "output_type": "display_data"
    },
    {
     "data": {
      "application/vnd.jupyter.widget-view+json": {
       "model_id": "",
       "version_major": 2,
       "version_minor": 0
      },
      "text/plain": [
       "FloatProgress(value=0.0, bar_style='info', description='Progress:', layout=Layout(height='25px', width='50%'),…"
      ]
     },
     "metadata": {},
     "output_type": "display_data"
    }
   ],
   "source": [
    "ressTX = spark.sql(\"select CityName,Category,\\\n",
    "                 Measure,Data_Value,PopulationCount \\\n",
    "                 from TXview where CityName in ('Pharr','Dallas')  and Category ='Health Outcomes' and \\\n",
    "                 Measure in ('Coronary heart disease among adults aged >=18 Years',\\\n",
    "                 'High blood pressure among adults aged >=18 Years',\\\n",
    "                'Stroke among adults aged >=18 Years') and GeographicLevel ='City' order by Measure\")"
   ]
  },
  {
   "cell_type": "code",
   "execution_count": 68,
   "metadata": {},
   "outputs": [
    {
     "data": {
      "application/vnd.jupyter.widget-view+json": {
       "model_id": "a5accb0923834a5583c7fffd8f28b9bc",
       "version_major": 2,
       "version_minor": 0
      },
      "text/plain": [
       "VBox()"
      ]
     },
     "metadata": {},
     "output_type": "display_data"
    },
    {
     "data": {
      "application/vnd.jupyter.widget-view+json": {
       "model_id": "",
       "version_major": 2,
       "version_minor": 0
      },
      "text/plain": [
       "FloatProgress(value=0.0, bar_style='info', description='Progress:', layout=Layout(height='25px', width='50%'),…"
      ]
     },
     "metadata": {},
     "output_type": "display_data"
    },
    {
     "name": "stdout",
     "output_type": "stream",
     "text": [
      "  CityName         Category                                              Measure  Data_Value  PopulationCount\n",
      "0    Pharr  Health Outcomes  Coronary heart disease among adults aged >=18 Years    6.700000            70400\n",
      "1   Dallas  Health Outcomes  Coronary heart disease among adults aged >=18 Years    5.400000          1197816\n",
      "2   Dallas  Health Outcomes     High blood pressure among adults aged >=18 Years   32.599998          1197816\n",
      "3    Pharr  Health Outcomes     High blood pressure among adults aged >=18 Years   32.900002            70400\n",
      "4   Dallas  Health Outcomes                  Stroke among adults aged >=18 Years    3.200000          1197816\n",
      "5    Pharr  Health Outcomes                  Stroke among adults aged >=18 Years    3.400000            70400"
     ]
    }
   ],
   "source": [
    "ressTX.limit(100).toPandas()"
   ]
  },
  {
   "cell_type": "markdown",
   "metadata": {},
   "source": [
    "### Answer: The trend is not the same across the US. As we see in the example above from Texas, the large urban area such as Dallas is overall unhealthier than the smaller area of Austin. This shows that the governments emphasize different priorities within each state. So states like Texas should try to create more health awareness in larger areas such as Dallas."
   ]
  },
  {
   "cell_type": "code",
   "execution_count": null,
   "metadata": {},
   "outputs": [],
   "source": []
  }
 ],
 "metadata": {
  "kernelspec": {
   "display_name": "PySpark",
   "language": "",
   "name": "pysparkkernel"
  },
  "language_info": {
   "codemirror_mode": {
    "name": "python",
    "version": 2
   },
   "mimetype": "text/x-python",
   "name": "pyspark",
   "pygments_lexer": "python2"
  }
 },
 "nbformat": 4,
 "nbformat_minor": 4
}
